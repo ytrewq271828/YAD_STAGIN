{
 "cells": [
  {
   "cell_type": "code",
   "execution_count": null,
   "metadata": {},
   "outputs": [],
   "source": [
    "from tslearn.preprocessing import TimeSeriesResampler\n",
    "from utils.yad_info import * \n",
    "index = 0\n",
    "subject_id = yad_ds[index]['id']  \n",
    "site = parse_yad_id(subject_id)\n",
    "min_TR_site = min(TR_dict, key=TR_dict.get)\n",
    "timepoints = yad_ds[index]['timeseries'].shape[-1]\n",
    "resample_size = int(TR_dict[site]/TR_dict[min_TR_site] * timepoints)\n",
    "\n",
    "ts = yad_ds[index]['timeseries'].numpy()\n",
    "ts_resampled = TimeSeriesResampler(sz=resample_size).fit_transform(ts)\n",
    "x = np.linspace(0, timepoints-1, timepoints)\n",
    "x_resample = np.linspace(0, timepoints-1, resample_size)\n",
    "plt.figure(figsize=(20,4))a\n",
    "plt.plot(x,ts[0], linestyle='-', marker='o', label='original')\n",
    "plt.plot(x_resample,ts_resampled[0], linestyle='-', marker='o', label='resampled')\n",
    "plt.legend()\n",
    "plt.savefig(\"/u4/surprise/YAD_STAGIN/result/figs/upsampled.png\", dpi=300)\n"
   ]
  },
  {
   "cell_type": "code",
   "execution_count": null,
   "metadata": {},
   "outputs": [],
   "source": [
    "import random\n",
    "random.sample(yad_ds[i]['timeseries'],50)\n"
   ]
  }
 ],
 "metadata": {
  "language_info": {
   "name": "python"
  },
  "orig_nbformat": 4
 },
 "nbformat": 4,
 "nbformat_minor": 2
}
