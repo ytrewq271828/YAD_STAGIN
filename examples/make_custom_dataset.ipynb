{
 "cells": [
  {
   "cell_type": "code",
   "execution_count": 1,
   "metadata": {
    "collapsed": true
   },
   "outputs": [
    {
     "ename": "ModuleNotFoundError",
     "evalue": "No module named 'utils'",
     "output_type": "error",
     "traceback": [
      "\u001b[0;31m---------------------------------------------------------------------------\u001b[0m",
      "\u001b[0;31mModuleNotFoundError\u001b[0m                       Traceback (most recent call last)",
      "\u001b[0;32m/tmp/ipykernel_29389/2001469230.py\u001b[0m in \u001b[0;36m<module>\u001b[0;34m\u001b[0m\n\u001b[1;32m     20\u001b[0m \u001b[0mtimeseries_save_dir\u001b[0m \u001b[0;34m=\u001b[0m \u001b[0mos\u001b[0m\u001b[0;34m.\u001b[0m\u001b[0mpath\u001b[0m\u001b[0;34m.\u001b[0m\u001b[0mjoin\u001b[0m\u001b[0;34m(\u001b[0m\u001b[0mbase_dir\u001b[0m\u001b[0;34m,\u001b[0m \u001b[0;34m'data'\u001b[0m\u001b[0;34m,\u001b[0m \u001b[0;34m'timeseries'\u001b[0m\u001b[0;34m)\u001b[0m\u001b[0;34m\u001b[0m\u001b[0;34m\u001b[0m\u001b[0m\n\u001b[1;32m     21\u001b[0m \u001b[0;34m\u001b[0m\u001b[0m\n\u001b[0;32m---> 22\u001b[0;31m \u001b[0;32mfrom\u001b[0m \u001b[0mutils\u001b[0m\u001b[0;34m.\u001b[0m\u001b[0mroi\u001b[0m \u001b[0;32mimport\u001b[0m \u001b[0;34m*\u001b[0m\u001b[0;34m\u001b[0m\u001b[0;34m\u001b[0m\u001b[0m\n\u001b[0m\u001b[1;32m     23\u001b[0m \u001b[0;32mfrom\u001b[0m \u001b[0mutils\u001b[0m\u001b[0;34m.\u001b[0m\u001b[0msubjects\u001b[0m \u001b[0;32mimport\u001b[0m \u001b[0;34m*\u001b[0m\u001b[0;34m\u001b[0m\u001b[0;34m\u001b[0m\u001b[0m\n\u001b[1;32m     24\u001b[0m \u001b[0mdf_roi\u001b[0m \u001b[0;34m=\u001b[0m \u001b[0mload_roi_labels\u001b[0m\u001b[0;34m(\u001b[0m\u001b[0mfile_path\u001b[0m\u001b[0;34m=\u001b[0m\u001b[0mroi_cortex_file\u001b[0m\u001b[0;34m)\u001b[0m\u001b[0;34m\u001b[0m\u001b[0;34m\u001b[0m\u001b[0m\n",
      "\u001b[0;31mModuleNotFoundError\u001b[0m: No module named 'utils'"
     ]
    }
   ],
   "source": [
    "import os, sys\n",
    "import numpy as np\n",
    "import pandas as pd\n",
    "from tqdm import tqdm\n",
    "import matplotlib.pyplot as plt\n",
    "atlas = 'schaefer400-yeo17'\n",
    "atlas_subcortex = 'CIT168'\n",
    "sites = ['Kaist', 'SNU', 'Samsung', 'Gachon', 'HCP']\n",
    "base_dir = '/u4/surprise/YAD_STAGIN'\n",
    "timeseries_dir = {\n",
    "    'HCP': f'/u4/HCP/mean_TS/{atlas}/Atlas_ROIs.2',\n",
    "    'Kaist': f'/u3/Data/YAD_TS/Kaist/rest.FIX_clean_NoiseICs_Censoring_afni/timeseries/{atlas}/Atlas_ROIs.2/incCbll',\n",
    "    'SNU': f'/u3/Data/YAD_TS/SNU/rest.FIX_clean_NoiseICs_Censoring/timeseries/{atlas}/Atlas_ROIs.2/incCbll',\n",
    "    'Samsung': f'/u3/Data/YAD_TS/Samsung/rest.FIX_clean_NoiseICs_Censoring/timeseries/{atlas}/Atlas_ROIs.2/incCbll',\n",
    "    'Gachon': f'/u3/Data/YAD_TS/Gachon/rest.FIX_clean_NoiseICs_Censoring/timeseries/{atlas}/Atlas_ROIs.2/incCbll',\n",
    "}\n",
    "yad_label_file = os.path.join(base_dir, 'data/behavior/labelled_modified.csv')\n",
    "hcp_label_file = os.path.join(base_dir, 'data/behavior/HCP_behavior_data.csv')\n",
    "roi_cortex_file = os.path.join(base_dir, 'data/rois/schaefer400-yeo17.txt')\n",
    "roi_subcortex_file = os.path.join(base_dir, 'data/rois/Atlas_ROIs.2.txt')\n",
    "timeseries_save_dir = os.path.join(base_dir, 'data', 'timeseries')\n",
    "\n",
    "from utils.roi import *\n",
    "from utils.subjects import *\n",
    "df_roi = load_roi_labels(file_path=roi_cortex_file)\n",
    "df_subj = load_YAD_labels(file_path=yad_label_file)\n",
    "df_subj = load_HCP_labels(file_path=hcp_label_file)\n",
    "from torch import tensor, float32, save, load\n",
    "df_yad = pd.read_csv(yad_label_file, encoding='CP949').set_index('ID')\n",
    "df_hcp = pd.read_csv(hcp_label_file, encoding='CP949').set_index('Subject')\n",
    "df_hcp.index = df_hcp.index.astype('str')\n",
    "\n",
    "from utils.misc import trace\n",
    "@trace\n",
    "def aaa():\n",
    "    print(\"aaa\")\n",
    "    return True\n",
    "aaa()\n",
    "\n",
    "#from dataset import prepare_HCPRest_timeseries\n",
    "#prepare_HCPRest_timeseries()"
   ]
  },
  {
   "cell_type": "code",
   "execution_count": 2,
   "metadata": {
    "collapsed": false,
    "pycharm": {
     "name": "#%%\n"
    }
   },
   "outputs": [
    {
     "name": "stdout",
     "output_type": "stream",
     "text": [
      "[DatasetYADRest.__init__] YAD_schaefer400_sub19.pth is loaded.\n",
      "[DatasetYADRest.__init__] /u4/surprise/YAD_STAGIN/data/behavior/labelled_modified.csv is loaded.\n",
      "[0, 1]\n",
      "2\n",
      "['YADYAD20001', 'YAD40075', 'YAD40086', 'YAD30405', 'YADYAD20013', 'YAD40026', 'YAD40027', 'YAD40055', 'YADMDD20021', 'YADMDD20017', 'YAD10071', 'YAD10085', 'YAD10009', 'YAD30507', 'YAD30230', 'YADYAD20002', 'YADCON20005', 'YADCON20004', 'YAD30321', 'YADCON20012', 'YAD40092', 'YADYAD20007', 'YAD40074', 'YAD30221', 'YAD40008', 'YAD40058', 'YADCON20011', 'YAD40057', 'YAD40034', 'YAD30515', 'YAD30220', 'YAD40035', 'YAD40043', 'YAD30505', 'YAD10061', 'YAD10016', 'YAD40010', 'YADYAD20014', 'YAD40028', 'YAD10026', 'YAD30408', 'YAD30504', 'YAD10058', 'YADYAD20016', 'YADMDD20007', 'YAD30215', 'YAD40053', 'YADYAD20008', 'YAD30410', 'YAD40041', 'YAD30212', 'YADCON20018', 'YADMDD20015', 'YADCON20001', 'YADYAD20011', 'YAD30214', 'YAD30320', 'YAD30502', 'YAD40087', 'YAD30233', 'YAD40082', 'YADYAD20003', 'YAD10066', 'YAD40045', 'YAD40014', 'YAD40083', 'YAD40048', 'YADCON20002', 'YAD30219', 'YAD10032', 'YAD40006', 'YAD40077', 'YADMDD20006', 'YADMDD20012', 'YAD10082', 'YAD10044', 'YAD30324', 'YAD40012', 'YAD40039', 'YAD30312', 'YADYAD20009', 'YADCON20015', 'YADMDD20014', 'YAD30509', 'YAD30503', 'YAD30309', 'YAD10004', 'YAD40016', 'YAD30508', 'YAD40054', 'YAD40080', 'YAD40042', 'YAD30401', 'YAD40091', 'YADMDD20003', 'YADYAD20021', 'YADMDD20023', 'YADMDD20001', 'YAD30313', 'YADYAD20012', 'YADCON20016', 'YAD30501', 'YAD10092', 'YADYAD20017', 'YAD10035', 'YAD40019', 'YAD40021', 'YADCON20006', 'YAD10040', 'YAD30310', 'YADYAD20004', 'YAD40046', 'YADYAD20019', 'YADCON20013', 'YAD10097', 'YADMDD20020', 'YADCON20014', 'YAD40040', 'YAD40033', 'YADMDD20019', 'YAD30225', 'YAD30323', 'YADCON20020', 'YAD40050', 'YAD10015', 'YAD40009', 'YAD40023', 'YAD40063', 'YAD40090', 'YAD30326', 'YAD10030', 'YAD40025', 'YADCON20003', 'YADCON20017', 'YAD30409', 'YADMDD20016', 'YAD30322', 'YADCON20008', 'YAD40064', 'YAD10028', 'YAD30325', 'YADMDD20004', 'YAD40062', 'YADMDD20011', 'YAD10024', 'YAD40081', 'YAD40068', 'YAD40060', 'YAD40061', 'YAD30314', 'YADMDD20002', 'YAD30506', 'YAD10049', 'YAD10099', 'YADYAD20005', 'YADMDD20009', 'YAD40031', 'YAD30216', 'YAD40018', 'YADMDD20008', 'YAD10052', 'YAD40059', 'YAD10014', 'YAD10096', 'YAD30402', 'YAD10050', 'YAD10029', 'YAD10033', 'YAD10081', 'YAD30223', 'YAD30226', 'YAD40013', 'YAD10027', 'YAD10046', 'YAD40036', 'YAD40030', 'YADYAD20020', 'YAD30514', 'YAD10080', 'YAD10057', 'YAD40022', 'YADMDD20022', 'YAD30228', 'YAD10089', 'YADCON20009', 'YAD40032', 'YADYAD20006', 'YAD30406', 'YAD30315', 'YAD10041', 'YAD30229', 'YAD10103', 'YAD40024', 'YAD10005', 'YAD30234', 'YAD40020', 'YAD40037', 'YAD40052', 'YAD40089', 'YADCON20007', 'YADCON20019', 'YAD30231', 'YAD10068', 'YADYAD20018', 'YAD40088', 'YAD40004', 'YAD30311', 'YAD30513', 'YADMDD20010', 'YAD10076', 'YAD10073', 'YADMDD20018', 'YAD30232', 'YAD10036', 'YAD40084', 'YADYAD20015', 'YAD40044', 'YAD30211', 'YAD30510', 'YAD10025', 'YAD40069', 'YADMDD20005', 'YAD30411', 'YAD10045', 'YAD40056', 'YAD10011', 'YAD10006', 'YAD10100', 'YADCON20010', 'YAD40076', 'YAD40029', 'YAD30227', 'YAD10104', 'YAD10084', 'YAD10020', 'YADYAD20010', 'YAD30318', 'YAD10078', 'YAD40015', 'YAD30319', 'YAD10008', 'YAD40038', 'YADMDD20013', 'YAD40049', 'YAD40085', 'YAD40007', 'YAD30213', 'YAD40078', 'YAD30224']\n",
      "[DatasetYADRest.__init__] Done.\n"
     ]
    }
   ],
   "source": [
    "import os, sys\n",
    "sys.path.append('/u4/surprise/YAD_STAGIN')\n",
    "from dataset import DatasetHCPRest, DatasetYADRest\n",
    "yad_ds = DatasetYADRest()\n"
   ]
  },
  {
   "cell_type": "code",
   "execution_count": 8,
   "metadata": {},
   "outputs": [],
   "source": [
    "subj = yad_ds[0]\n",
    "ts = subj['timeseries'].numpy()"
   ]
  },
  {
   "cell_type": "code",
   "execution_count": null,
   "metadata": {},
   "outputs": [],
   "source": []
  },
  {
   "cell_type": "code",
   "execution_count": 15,
   "metadata": {},
   "outputs": [
    {
     "ename": "TypeError",
     "evalue": "'module' object is not callable",
     "output_type": "error",
     "traceback": [
      "\u001b[0;31m---------------------------------------------------------------------------\u001b[0m",
      "\u001b[0;31mTypeError\u001b[0m                                 Traceback (most recent call last)",
      "\u001b[0;32m/tmp/ipykernel_5620/433778180.py\u001b[0m in \u001b[0;36m<module>\u001b[0;34m\u001b[0m\n\u001b[1;32m      1\u001b[0m \u001b[0;32mimport\u001b[0m \u001b[0mmatplotlib\u001b[0m\u001b[0;34m.\u001b[0m\u001b[0mpyplot\u001b[0m \u001b[0;32mas\u001b[0m \u001b[0mplt\u001b[0m\u001b[0;34m\u001b[0m\u001b[0;34m\u001b[0m\u001b[0m\n\u001b[0;32m----> 2\u001b[0;31m \u001b[0mplt\u001b[0m\u001b[0;34m(\u001b[0m\u001b[0mts\u001b[0m\u001b[0;34m[\u001b[0m\u001b[0;36m0\u001b[0m\u001b[0;34m,\u001b[0m\u001b[0;34m:\u001b[0m\u001b[0;34m]\u001b[0m\u001b[0;34m)\u001b[0m\u001b[0;34m\u001b[0m\u001b[0;34m\u001b[0m\u001b[0m\n\u001b[0m",
      "\u001b[0;31mTypeError\u001b[0m: 'module' object is not callable"
     ]
    }
   ],
   "source": [
    "\n",
    "plt(ts[0,:])"
   ]
  },
  {
   "cell_type": "code",
   "execution_count": 11,
   "metadata": {},
   "outputs": [
    {
     "data": {
      "text/plain": [
       "246"
      ]
     },
     "execution_count": 11,
     "metadata": {},
     "output_type": "execute_result"
    }
   ],
   "source": [
    "import random\n",
    "dynamic_length=600\n",
    "timeseries = s['timeseries']\n",
    "random.randrange(timeseries.shape[1]-dynamic_length+1)"
   ]
  },
  {
   "cell_type": "code",
   "execution_count": 27,
   "metadata": {},
   "outputs": [
    {
     "name": "stderr",
     "output_type": "stream",
     "text": [
      "pixdim[1,2,3] should be non-zero; setting 0 dims to 1\n"
     ]
    },
    {
     "name": "stdout",
     "output_type": "stream",
     "text": [
      "<nibabel.cifti2.cifti2.Cifti2Image object at 0x2b9bd2140fd0>\n"
     ]
    },
    {
     "ename": "TypeError",
     "evalue": "Data given cannot be loaded because it is not compatible with nibabel format:\nCifti2Image('rfMRI_REST1_LR_Atl...')",
     "output_type": "error",
     "traceback": [
      "\u001b[0;31m---------------------------------------------------------------------------\u001b[0m",
      "\u001b[0;31mTypeError\u001b[0m                                 Traceback (most recent call last)",
      "\u001b[0;32m/tmp/ipykernel_13011/1980419147.py\u001b[0m in \u001b[0;36m<module>\u001b[0;34m\u001b[0m\n\u001b[1;32m     13\u001b[0m     \u001b[0mloaded_img\u001b[0m \u001b[0;34m=\u001b[0m \u001b[0mload_img\u001b[0m\u001b[0;34m(\u001b[0m\u001b[0mos\u001b[0m\u001b[0;34m.\u001b[0m\u001b[0mpath\u001b[0m\u001b[0;34m.\u001b[0m\u001b[0mjoin\u001b[0m\u001b[0;34m(\u001b[0m\u001b[0mimg_path\u001b[0m\u001b[0;34m,\u001b[0m \u001b[0mimg\u001b[0m\u001b[0;34m)\u001b[0m\u001b[0;34m)\u001b[0m\u001b[0;34m\u001b[0m\u001b[0;34m\u001b[0m\u001b[0m\n\u001b[1;32m     14\u001b[0m     \u001b[0mprint\u001b[0m\u001b[0;34m(\u001b[0m\u001b[0mloaded_img\u001b[0m\u001b[0;34m)\u001b[0m\u001b[0;34m\u001b[0m\u001b[0;34m\u001b[0m\u001b[0m\n\u001b[0;32m---> 15\u001b[0;31m     \u001b[0mtimeseries\u001b[0m \u001b[0;34m=\u001b[0m \u001b[0mroi_masker\u001b[0m\u001b[0;34m.\u001b[0m\u001b[0mfit_transform\u001b[0m\u001b[0;34m(\u001b[0m\u001b[0mloaded_img\u001b[0m\u001b[0;34m)\u001b[0m\u001b[0;34m\u001b[0m\u001b[0;34m\u001b[0m\u001b[0m\n\u001b[0m\u001b[1;32m     16\u001b[0m     \u001b[0mprint\u001b[0m\u001b[0;34m(\u001b[0m\u001b[0mtimeseries\u001b[0m\u001b[0;34m.\u001b[0m\u001b[0mshape\u001b[0m\u001b[0;34m)\u001b[0m\u001b[0;34m\u001b[0m\u001b[0;34m\u001b[0m\u001b[0m\n\u001b[1;32m     17\u001b[0m     \u001b[0;32mif\u001b[0m \u001b[0;32mnot\u001b[0m \u001b[0mlen\u001b[0m\u001b[0;34m(\u001b[0m\u001b[0mtimeseries\u001b[0m\u001b[0;34m)\u001b[0m \u001b[0;34m==\u001b[0m \u001b[0;36m1200\u001b[0m\u001b[0;34m:\u001b[0m \u001b[0;32mcontinue\u001b[0m\u001b[0;34m\u001b[0m\u001b[0;34m\u001b[0m\u001b[0m\n",
      "\u001b[0;32m~/anaconda3/envs/YAD_STAGIN/lib/python3.8/site-packages/nilearn/input_data/nifti_labels_masker.py\u001b[0m in \u001b[0;36mfit_transform\u001b[0;34m(self, imgs, confounds)\u001b[0m\n\u001b[1;32m    247\u001b[0m \u001b[0;34m\u001b[0m\u001b[0m\n\u001b[1;32m    248\u001b[0m         \"\"\"\n\u001b[0;32m--> 249\u001b[0;31m         \u001b[0;32mreturn\u001b[0m \u001b[0mself\u001b[0m\u001b[0;34m.\u001b[0m\u001b[0mfit\u001b[0m\u001b[0;34m(\u001b[0m\u001b[0;34m)\u001b[0m\u001b[0;34m.\u001b[0m\u001b[0mtransform\u001b[0m\u001b[0;34m(\u001b[0m\u001b[0mimgs\u001b[0m\u001b[0;34m,\u001b[0m \u001b[0mconfounds\u001b[0m\u001b[0;34m=\u001b[0m\u001b[0mconfounds\u001b[0m\u001b[0;34m)\u001b[0m\u001b[0;34m\u001b[0m\u001b[0;34m\u001b[0m\u001b[0m\n\u001b[0m\u001b[1;32m    250\u001b[0m \u001b[0;34m\u001b[0m\u001b[0m\n\u001b[1;32m    251\u001b[0m     \u001b[0;32mdef\u001b[0m \u001b[0m_check_fitted\u001b[0m\u001b[0;34m(\u001b[0m\u001b[0mself\u001b[0m\u001b[0;34m)\u001b[0m\u001b[0;34m:\u001b[0m\u001b[0;34m\u001b[0m\u001b[0;34m\u001b[0m\u001b[0m\n",
      "\u001b[0;32m~/anaconda3/envs/YAD_STAGIN/lib/python3.8/site-packages/nilearn/input_data/base_masker.py\u001b[0m in \u001b[0;36mtransform\u001b[0;34m(self, imgs, confounds)\u001b[0m\n\u001b[1;32m    183\u001b[0m \u001b[0;34m\u001b[0m\u001b[0m\n\u001b[1;32m    184\u001b[0m         \u001b[0;32mif\u001b[0m \u001b[0mconfounds\u001b[0m \u001b[0;32mis\u001b[0m \u001b[0;32mNone\u001b[0m \u001b[0;32mand\u001b[0m \u001b[0;32mnot\u001b[0m \u001b[0mself\u001b[0m\u001b[0;34m.\u001b[0m\u001b[0mhigh_variance_confounds\u001b[0m\u001b[0;34m:\u001b[0m\u001b[0;34m\u001b[0m\u001b[0;34m\u001b[0m\u001b[0m\n\u001b[0;32m--> 185\u001b[0;31m             \u001b[0;32mreturn\u001b[0m \u001b[0mself\u001b[0m\u001b[0;34m.\u001b[0m\u001b[0mtransform_single_imgs\u001b[0m\u001b[0;34m(\u001b[0m\u001b[0mimgs\u001b[0m\u001b[0;34m,\u001b[0m \u001b[0mconfounds\u001b[0m\u001b[0;34m)\u001b[0m\u001b[0;34m\u001b[0m\u001b[0;34m\u001b[0m\u001b[0m\n\u001b[0m\u001b[1;32m    186\u001b[0m \u001b[0;34m\u001b[0m\u001b[0m\n\u001b[1;32m    187\u001b[0m         \u001b[0;31m# Compute high variance confounds if requested\u001b[0m\u001b[0;34m\u001b[0m\u001b[0;34m\u001b[0m\u001b[0;34m\u001b[0m\u001b[0m\n",
      "\u001b[0;32m~/anaconda3/envs/YAD_STAGIN/lib/python3.8/site-packages/nilearn/input_data/nifti_labels_masker.py\u001b[0m in \u001b[0;36mtransform_single_imgs\u001b[0;34m(self, imgs, confounds)\u001b[0m\n\u001b[1;32m    285\u001b[0m             \u001b[0mself\u001b[0m\u001b[0;34m.\u001b[0m\u001b[0m_resampled_mask_img\u001b[0m \u001b[0;34m=\u001b[0m \u001b[0mself\u001b[0m\u001b[0;34m.\u001b[0m\u001b[0mmask_img_\u001b[0m\u001b[0;34m\u001b[0m\u001b[0;34m\u001b[0m\u001b[0m\n\u001b[1;32m    286\u001b[0m         \u001b[0;32mif\u001b[0m \u001b[0mself\u001b[0m\u001b[0;34m.\u001b[0m\u001b[0mresampling_target\u001b[0m \u001b[0;34m==\u001b[0m \u001b[0;34m\"data\"\u001b[0m\u001b[0;34m:\u001b[0m\u001b[0;34m\u001b[0m\u001b[0;34m\u001b[0m\u001b[0m\n\u001b[0;32m--> 287\u001b[0;31m             \u001b[0mimgs_\u001b[0m \u001b[0;34m=\u001b[0m \u001b[0m_utils\u001b[0m\u001b[0;34m.\u001b[0m\u001b[0mcheck_niimg\u001b[0m\u001b[0;34m(\u001b[0m\u001b[0mimgs\u001b[0m\u001b[0;34m,\u001b[0m \u001b[0matleast_4d\u001b[0m\u001b[0;34m=\u001b[0m\u001b[0;32mTrue\u001b[0m\u001b[0;34m)\u001b[0m\u001b[0;34m\u001b[0m\u001b[0;34m\u001b[0m\u001b[0m\n\u001b[0m\u001b[1;32m    288\u001b[0m             \u001b[0;32mif\u001b[0m \u001b[0;32mnot\u001b[0m \u001b[0m_check_same_fov\u001b[0m\u001b[0;34m(\u001b[0m\u001b[0mimgs_\u001b[0m\u001b[0;34m,\u001b[0m \u001b[0mself\u001b[0m\u001b[0;34m.\u001b[0m\u001b[0m_resampled_labels_img_\u001b[0m\u001b[0;34m)\u001b[0m\u001b[0;34m:\u001b[0m\u001b[0;34m\u001b[0m\u001b[0;34m\u001b[0m\u001b[0m\n\u001b[1;32m    289\u001b[0m                 \u001b[0;32mif\u001b[0m \u001b[0mself\u001b[0m\u001b[0;34m.\u001b[0m\u001b[0mverbose\u001b[0m \u001b[0;34m>\u001b[0m \u001b[0;36m0\u001b[0m\u001b[0;34m:\u001b[0m\u001b[0;34m\u001b[0m\u001b[0;34m\u001b[0m\u001b[0m\n",
      "\u001b[0;32m~/anaconda3/envs/YAD_STAGIN/lib/python3.8/site-packages/nilearn/_utils/niimg_conversions.py\u001b[0m in \u001b[0;36mcheck_niimg\u001b[0;34m(niimg, ensure_ndim, atleast_4d, dtype, return_iterator, wildcards)\u001b[0m\n\u001b[1;32m    281\u001b[0m \u001b[0;34m\u001b[0m\u001b[0m\n\u001b[1;32m    282\u001b[0m     \u001b[0;31m# Otherwise, it should be a filename or a SpatialImage, we load it\u001b[0m\u001b[0;34m\u001b[0m\u001b[0;34m\u001b[0m\u001b[0;34m\u001b[0m\u001b[0m\n\u001b[0;32m--> 283\u001b[0;31m     \u001b[0mniimg\u001b[0m \u001b[0;34m=\u001b[0m \u001b[0mload_niimg\u001b[0m\u001b[0;34m(\u001b[0m\u001b[0mniimg\u001b[0m\u001b[0;34m,\u001b[0m \u001b[0mdtype\u001b[0m\u001b[0;34m=\u001b[0m\u001b[0mdtype\u001b[0m\u001b[0;34m)\u001b[0m\u001b[0;34m\u001b[0m\u001b[0;34m\u001b[0m\u001b[0m\n\u001b[0m\u001b[1;32m    284\u001b[0m \u001b[0;34m\u001b[0m\u001b[0m\n\u001b[1;32m    285\u001b[0m     \u001b[0;32mif\u001b[0m \u001b[0mensure_ndim\u001b[0m \u001b[0;34m==\u001b[0m \u001b[0;36m3\u001b[0m \u001b[0;32mand\u001b[0m \u001b[0mlen\u001b[0m\u001b[0;34m(\u001b[0m\u001b[0mniimg\u001b[0m\u001b[0;34m.\u001b[0m\u001b[0mshape\u001b[0m\u001b[0;34m)\u001b[0m \u001b[0;34m==\u001b[0m \u001b[0;36m4\u001b[0m \u001b[0;32mand\u001b[0m \u001b[0mniimg\u001b[0m\u001b[0;34m.\u001b[0m\u001b[0mshape\u001b[0m\u001b[0;34m[\u001b[0m\u001b[0;36m3\u001b[0m\u001b[0;34m]\u001b[0m \u001b[0;34m==\u001b[0m \u001b[0;36m1\u001b[0m\u001b[0;34m:\u001b[0m\u001b[0;34m\u001b[0m\u001b[0;34m\u001b[0m\u001b[0m\n",
      "\u001b[0;32m~/anaconda3/envs/YAD_STAGIN/lib/python3.8/site-packages/nilearn/_utils/niimg.py\u001b[0m in \u001b[0;36mload_niimg\u001b[0;34m(niimg, dtype)\u001b[0m\n\u001b[1;32m    128\u001b[0m         \u001b[0mniimg\u001b[0m \u001b[0;34m=\u001b[0m \u001b[0mnibabel\u001b[0m\u001b[0;34m.\u001b[0m\u001b[0mload\u001b[0m\u001b[0;34m(\u001b[0m\u001b[0mniimg\u001b[0m\u001b[0;34m)\u001b[0m\u001b[0;34m\u001b[0m\u001b[0;34m\u001b[0m\u001b[0m\n\u001b[1;32m    129\u001b[0m     \u001b[0;32melif\u001b[0m \u001b[0;32mnot\u001b[0m \u001b[0misinstance\u001b[0m\u001b[0;34m(\u001b[0m\u001b[0mniimg\u001b[0m\u001b[0;34m,\u001b[0m \u001b[0mnibabel\u001b[0m\u001b[0;34m.\u001b[0m\u001b[0mspatialimages\u001b[0m\u001b[0;34m.\u001b[0m\u001b[0mSpatialImage\u001b[0m\u001b[0;34m)\u001b[0m\u001b[0;34m:\u001b[0m\u001b[0;34m\u001b[0m\u001b[0;34m\u001b[0m\u001b[0m\n\u001b[0;32m--> 130\u001b[0;31m         raise TypeError(\"Data given cannot be loaded because it is\"\n\u001b[0m\u001b[1;32m    131\u001b[0m                         \u001b[0;34m\" not compatible with nibabel format:\\n\"\u001b[0m\u001b[0;34m\u001b[0m\u001b[0;34m\u001b[0m\u001b[0m\n\u001b[1;32m    132\u001b[0m                         + _repr_niimgs(niimg, shorten=True))\n",
      "\u001b[0;31mTypeError\u001b[0m: Data given cannot be loaded because it is not compatible with nibabel format:\nCifti2Image('rfMRI_REST1_LR_Atl...')"
     ]
    }
   ],
   "source": [
    "from nilearn.image import load_img, smooth_img, clean_img\n",
    "from nilearn.input_data import NiftiLabelsMasker\n",
    "from nilearn.datasets import fetch_atlas_schaefer_2018, fetch_atlas_aal, fetch_atlas_destrieux_2009, fetch_atlas_harvard_oxford\n",
    "sourcedir='/u4/surprise/YAD_STAGIN/data'\n",
    "roi = fetch_atlas_schaefer_2018(data_dir=os.path.join(sourcedir, 'roi'))\n",
    "roi_masker = NiftiLabelsMasker(load_img(roi['maps']))\n",
    "timeseries_dict = {}\n",
    "img_path = '/u4/HCP/rawdata/100206/rfMRI_REST1_LR'\n",
    "img_list = [f for f in os.listdir(img_path) if f.endswith('nii')]\n",
    "img_list.sort()\n",
    "for img in img_list:\n",
    "    id = img.split('.')[0]\n",
    "    loaded_img = load_img(os.path.join(img_path, img))\n",
    "    print(loaded_img)\n",
    "    timeseries = roi_masker.fit_transform(loaded_img)\n",
    "    print(timeseries.shape)\n",
    "    if not len(timeseries) == 1200: continue\n",
    "    timeseries_dict[id] = timeseries"
   ]
  },
  {
   "cell_type": "code",
   "execution_count": null,
   "metadata": {},
   "outputs": [],
   "source": []
  },
  {
   "cell_type": "markdown",
   "metadata": {},
   "source": [
    "df"
   ]
  },
  {
   "cell_type": "code",
   "execution_count": 3,
   "metadata": {},
   "outputs": [
    {
     "name": "stdout",
     "output_type": "stream",
     "text": [
      "[DatasetYADRest.__init__] YAD_schaefer400_sub19.pth is loaded.\n",
      "[DatasetYADRest.__init__] YAD_schaefer400_sub19_resampled.pth is loaded.\n",
      "[DatasetYADRest.__init__] /u4/surprise/YAD_STAGIN/data/behavior/labelled_modified.csv is loaded.\n",
      "[DatasetYADRest.__init__] Done.\n"
     ]
    }
   ],
   "source": [
    "import sys\n",
    "sys.path.append('/u4/surprise/YAD_STAGIN')\n",
    "from dataset import prepare_YADRest_timeseries \n",
    "from dataset import DatasetHCPRest, DatasetYADRest\n",
    "yad_ds = DatasetYADRest(k_fold=5)\n",
    "train_i, test_i = yad_ds.set_fold(1, train=True)\n",
    "print(train_i, test_i)\n",
    "#prepare_YADRest_timeseries()"
   ]
  },
  {
   "cell_type": "code",
   "execution_count": 4,
   "metadata": {},
   "outputs": [
    {
     "name": "stdout",
     "output_type": "stream",
     "text": [
      "[132  89  18 190 222  13 246 109 163 178 220 182  61 225  44  99 248 181\n",
      " 105  63  96 130 174 161  82  76  34 129 159 114  81  17  94  26  51 204\n",
      "  38  40   3 102  33 247  70 155 139  68  19 215 209 143 242 166  88  66\n",
      "  28 221  30 107  87 142  54 135 156 177  49 162 134   0  98  47  77 154\n",
      " 146 234  24  36 116 193 151 245  41 232 199 133 217  75 175 106 125  52\n",
      " 176 212   9 121  78 119 123  14 110 201 189  85  12 149 164 131 218 198\n",
      " 128  25 197 223 216  71 144 236  58  15 240 127  80 147 233 184 205 152\n",
      "  69   6  11 171 160 207 113 219 194 191 229  31  16  56 238  65 165  67\n",
      "  35 169 126 200 226 118   2   1  86  97  64 111 170 241   7 101 108 136\n",
      "   4 192  53 231  62  59  39 211  55 239 235 228  91 168  21 103  10 112\n",
      "  42 117 187  37  48 141 140  43 214 104 124 120  23 153  74 115 230  83\n",
      "  79] [  5   8  20  22  27  29  32  45  46  50  57  60  72  73  84  90  92  93\n",
      "  95 100 122 137 138 145 148 150 157 158 167 172 173 179 180 183 185 186\n",
      " 188 195 196 202 203 206 208 210 213 224 227 237 243 244]\n"
     ]
    }
   ],
   "source": []
  },
  {
   "cell_type": "code",
   "execution_count": null,
   "metadata": {},
   "outputs": [],
   "source": []
  }
 ],
 "metadata": {
  "interpreter": {
   "hash": "767d51c1340bd893661ea55ea3124f6de3c7a262a8b4abca0554b478b1e2ff90"
  },
  "kernelspec": {
   "display_name": "Python 3.8.11 64-bit",
   "name": "python3"
  },
  "language_info": {
   "codemirror_mode": {
    "name": "ipython",
    "version": 3
   },
   "file_extension": ".py",
   "mimetype": "text/x-python",
   "name": "python",
   "nbconvert_exporter": "python",
   "pygments_lexer": "ipython3",
   "version": "3.8.12"
  }
 },
 "nbformat": 4,
 "nbformat_minor": 2
}
