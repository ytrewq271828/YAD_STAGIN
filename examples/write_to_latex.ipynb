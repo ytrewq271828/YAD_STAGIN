{
 "cells": [
  {
   "cell_type": "code",
   "execution_count": 1,
   "metadata": {},
   "outputs": [
    {
     "name": "stdout",
     "output_type": "stream",
     "text": [
      "\\begin{table}\n",
      "\\centering\n",
      "\\caption{schaefer400+subcortex19}\n",
      "\\begin{tabular}{ccccc}\n",
      "\\toprule\n",
      "       fold &      accuracy &     precision &         recall &        roc\\_auc \\\\\n",
      "\\midrule\n",
      "          0 &         0.747 &          0.67 &          0.901 &          0.897 \\\\\n",
      "          1 &         0.822 &         0.855 &          0.738 &          0.901 \\\\\n",
      "          2 &         0.862 &         0.792 &           0.95 &          0.947 \\\\\n",
      "          3 &         0.891 &         0.886 &          0.875 &          0.942 \\\\\n",
      "          4 &         0.776 &         0.695 &          0.912 &          0.894 \\\\\n",
      "mean pm std & 0.82 pm 0.053 & 0.78 pm 0.085 & 0.875 pm 0.073 & 0.916 pm 0.023 \\\\\n",
      "\\bottomrule\n",
      "\\end{tabular}\n",
      "\\end{table}\n",
      "\n"
     ]
    }
   ],
   "source": [
    "metric_csv = '/u4/surprise/YAD_STAGIN/result/stagin_experiment/metric.csv'\n",
    "import pandas as pd\n",
    "pd.options.display.float_format = \"{:,.3f}\".format\n",
    "df = pd.read_csv(metric_csv)\n",
    "df = df.round(3)\n",
    "df = df.astype('str')\n",
    "df['fold'][5] = 'mean'\n",
    "df['fold'][6] = 'std'\n",
    "df.loc[5] = df.loc[[5,6]].apply(lambda x:' pm '.join(x), axis=0)\n",
    "df = df.drop(6)\n",
    "print(df.to_latex(index=False, bold_rows=True, column_format='ccccc', caption='schaefer400+subcortex19'))\n",
    "\n"
   ]
  },
  {
   "cell_type": "code",
   "execution_count": null,
   "metadata": {},
   "outputs": [],
   "source": []
  }
 ],
 "metadata": {
  "interpreter": {
   "hash": "707a7df05f9e3840f994f29f2fb03442a9a5163384a66996d6d58cf998bd44cb"
  },
  "kernelspec": {
   "display_name": "Python 3.8.12 64-bit ('YAD_STAGIN': conda)",
   "language": "python",
   "name": "python3"
  },
  "language_info": {
   "codemirror_mode": {
    "name": "ipython",
    "version": 3
   },
   "file_extension": ".py",
   "mimetype": "text/x-python",
   "name": "python",
   "nbconvert_exporter": "python",
   "pygments_lexer": "ipython3",
   "version": "3.8.12"
  },
  "orig_nbformat": 4
 },
 "nbformat": 4,
 "nbformat_minor": 2
}
