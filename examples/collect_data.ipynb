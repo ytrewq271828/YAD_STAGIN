{
 "cells": [
  {
   "cell_type": "code",
   "execution_count": 2,
   "metadata": {
    "collapsed": true
   },
   "outputs": [],
   "source": [
    "import os, sys\n",
    "import pandas as pd\n",
    "atlas = 'schaefer400-yeo17'\n",
    "atlas_subcortex = 'CIT168'\n",
    "sites = ['Kaist', 'SNU', 'Samsung', 'Gachon', 'HCP']\n",
    "base_dir = '/u4/surprise/YAD_STAGIN'\n",
    "data_dir = {\n",
    "    'HCP': f'/u3/Data/YAD_HCP_GNN/timeseries/HCP/{atlas}',\n",
    "    'Kaist': f'/u3/Data/YAD_TS/Kaist/rest.FIX_clean_NoiseICs_Censoring_afni/timeseries/{atlas}/Atlas_ROIs.2/incCbll',\n",
    "    'SNU': f'/u3/Data/YAD_TS/SNU/rest.FIX_clean_NoiseICs_Censoring/timeseries/{atlas}/Atlas_ROIs.2/incCbll',\n",
    "    'Samsung': f'/u3/Data/YAD_TS/Samsung/rest.FIX_clean_NoiseICs_Censoring/timeseries/{atlas}/Atlas_ROIs.2/incCbll',\n",
    "    'Gachon': f'/u3/Data/YAD_TS/Gachon/rest.FIX_clean_NoiseICs_Censoring/timeseries/{atlas}/Atlas_ROIs.2/incCbll',\n",
    "}\n",
    "yad_label_file = os.path.join(base_dir, 'data/labelled_modified.csv')\n",
    "hcp_label_file = os.path.join(base_dir, 'data/HCP_behavior_data.csv')\n",
    "roi_name_file = os.path.join(base_dir, 'data/schaefer400-yeo17.txt')"
   ]
  },
  {
   "cell_type": "code",
   "execution_count": 3,
   "outputs": [
    {
     "data": {
      "text/plain": "                      laterality category     disp\nlabel                                             \nDefaultA_PFCd_2_L              L  Default  Default\nDefaultC_PHC_1_L               L  Default  Default\nDefaultC_PHC_2_L               L  Default  Default\nDefaultC_PHC_3_L               L  Default  Default\nDefaultB_Temp_1_L              L  Default  Default\n...                          ...      ...      ...\nVisPeri_ExStrSup_9_R           R      Vis   Visual\nVisPeri_ExStrSup_10_R          R      Vis   Visual\nVisPeri_ExStrSup_11_R          R      Vis   Visual\nVisPeri_ExStrSup_12_L          L      Vis   Visual\nVisCent_ExStr_1_L              L      Vis   Visual\n\n[400 rows x 3 columns]",
      "text/html": "<div>\n<style scoped>\n    .dataframe tbody tr th:only-of-type {\n        vertical-align: middle;\n    }\n\n    .dataframe tbody tr th {\n        vertical-align: top;\n    }\n\n    .dataframe thead th {\n        text-align: right;\n    }\n</style>\n<table border=\"1\" class=\"dataframe\">\n  <thead>\n    <tr style=\"text-align: right;\">\n      <th></th>\n      <th>laterality</th>\n      <th>category</th>\n      <th>disp</th>\n    </tr>\n    <tr>\n      <th>label</th>\n      <th></th>\n      <th></th>\n      <th></th>\n    </tr>\n  </thead>\n  <tbody>\n    <tr>\n      <th>DefaultA_PFCd_2_L</th>\n      <td>L</td>\n      <td>Default</td>\n      <td>Default</td>\n    </tr>\n    <tr>\n      <th>DefaultC_PHC_1_L</th>\n      <td>L</td>\n      <td>Default</td>\n      <td>Default</td>\n    </tr>\n    <tr>\n      <th>DefaultC_PHC_2_L</th>\n      <td>L</td>\n      <td>Default</td>\n      <td>Default</td>\n    </tr>\n    <tr>\n      <th>DefaultC_PHC_3_L</th>\n      <td>L</td>\n      <td>Default</td>\n      <td>Default</td>\n    </tr>\n    <tr>\n      <th>DefaultB_Temp_1_L</th>\n      <td>L</td>\n      <td>Default</td>\n      <td>Default</td>\n    </tr>\n    <tr>\n      <th>...</th>\n      <td>...</td>\n      <td>...</td>\n      <td>...</td>\n    </tr>\n    <tr>\n      <th>VisPeri_ExStrSup_9_R</th>\n      <td>R</td>\n      <td>Vis</td>\n      <td>Visual</td>\n    </tr>\n    <tr>\n      <th>VisPeri_ExStrSup_10_R</th>\n      <td>R</td>\n      <td>Vis</td>\n      <td>Visual</td>\n    </tr>\n    <tr>\n      <th>VisPeri_ExStrSup_11_R</th>\n      <td>R</td>\n      <td>Vis</td>\n      <td>Visual</td>\n    </tr>\n    <tr>\n      <th>VisPeri_ExStrSup_12_L</th>\n      <td>L</td>\n      <td>Vis</td>\n      <td>Visual</td>\n    </tr>\n    <tr>\n      <th>VisCent_ExStr_1_L</th>\n      <td>L</td>\n      <td>Vis</td>\n      <td>Visual</td>\n    </tr>\n  </tbody>\n</table>\n<p>400 rows × 3 columns</p>\n</div>"
     },
     "execution_count": 3,
     "metadata": {},
     "output_type": "execute_result"
    }
   ],
   "source": [
    "#. load roi names & subjects' clinical data\n",
    "from utils.roi import *\n",
    "df_roi = load_roi_labels(file_path=roi_name_file)\n",
    "df_roi"
   ],
   "metadata": {
    "collapsed": false,
    "pycharm": {
     "name": "#%%\n"
    }
   }
  },
  {
   "cell_type": "code",
   "execution_count": 5,
   "outputs": [
    {
     "data": {
      "text/plain": "      Subject Release Acquisition Gender    Age  3T_Full_MR_Compl  T1_Count  \\\n0      100004    S900         Q06      M  22-25             False         0   \n1      100206    S900         Q11      M  26-30              True         1   \n2      100307      Q1         Q01      F  26-30              True         1   \n3      100408      Q3         Q03      M  31-35              True         1   \n4      100610    S900         Q08      M  26-30              True         2   \n...       ...     ...         ...    ...    ...               ...       ...   \n1201   992774      Q2         Q02      M  31-35              True         2   \n1202   993675    S900         Q09      F  26-30              True         2   \n1203   994273    S500         Q06      M  26-30              True         1   \n1204   995174   S1200         Q13      M  22-25             False         1   \n1205   996782    S900         Q08      F  26-30              True         2   \n\n      T2_Count  3T_RS-fMRI_Count  3T_RS-fMRI_PctCompl  ...  Noise_Comp  \\\n0            0                 0                  0.0  ...         5.2   \n1            1                 4                100.0  ...         6.0   \n2            1                 4                100.0  ...         3.6   \n3            1                 4                100.0  ...         2.0   \n4            1                 4                100.0  ...         2.0   \n...        ...               ...                  ...  ...         ...   \n1201         2                 4                100.0  ...         8.4   \n1202         2                 4                100.0  ...         0.4   \n1203         1                 4                100.0  ...         6.0   \n1204         1                 2                  0.0  ...         3.6   \n1205         2                 4                100.0  ...         6.0   \n\n      Odor_Unadj  Odor_AgeAdj  PainIntens_RawScore  PainInterf_Tscore  \\\n0         101.12        86.45                  2.0               45.9   \n1         108.79        97.19                  1.0               49.7   \n2         101.12        86.45                  0.0               38.6   \n3         108.79        98.04                  2.0               52.6   \n4         122.25       110.45                  0.0               38.6   \n...          ...          ...                  ...                ...   \n1201      122.25       111.41                  4.0               50.1   \n1202      122.25       110.45                  0.0               38.6   \n1203      122.25       111.41                  7.0               63.8   \n1204       88.61        64.58                  3.0               50.1   \n1205      108.79        97.19                  0.0               38.6   \n\n      Taste_Unadj  Taste_AgeAdj  Mars_Log_Score  Mars_Errs  Mars_Final  \n0          107.17        105.31            1.80        0.0        1.80  \n1           72.63         72.03            1.84        0.0        1.84  \n2           71.69         71.76            1.76        0.0        1.76  \n3          114.01        113.59            1.76        2.0        1.68  \n4           84.84         85.31            1.92        1.0        1.88  \n...           ...           ...             ...        ...         ...  \n1201       107.17        103.55            1.76        0.0        1.76  \n1202        84.07         84.25            1.80        1.0        1.76  \n1203       110.65        109.73            1.80        1.0        1.76  \n1204       117.16        117.40            1.80        0.0        1.80  \n1205        75.43         73.72            1.84        0.0        1.84  \n\n[1206 rows x 582 columns]",
      "text/html": "<div>\n<style scoped>\n    .dataframe tbody tr th:only-of-type {\n        vertical-align: middle;\n    }\n\n    .dataframe tbody tr th {\n        vertical-align: top;\n    }\n\n    .dataframe thead th {\n        text-align: right;\n    }\n</style>\n<table border=\"1\" class=\"dataframe\">\n  <thead>\n    <tr style=\"text-align: right;\">\n      <th></th>\n      <th>Subject</th>\n      <th>Release</th>\n      <th>Acquisition</th>\n      <th>Gender</th>\n      <th>Age</th>\n      <th>3T_Full_MR_Compl</th>\n      <th>T1_Count</th>\n      <th>T2_Count</th>\n      <th>3T_RS-fMRI_Count</th>\n      <th>3T_RS-fMRI_PctCompl</th>\n      <th>...</th>\n      <th>Noise_Comp</th>\n      <th>Odor_Unadj</th>\n      <th>Odor_AgeAdj</th>\n      <th>PainIntens_RawScore</th>\n      <th>PainInterf_Tscore</th>\n      <th>Taste_Unadj</th>\n      <th>Taste_AgeAdj</th>\n      <th>Mars_Log_Score</th>\n      <th>Mars_Errs</th>\n      <th>Mars_Final</th>\n    </tr>\n  </thead>\n  <tbody>\n    <tr>\n      <th>0</th>\n      <td>100004</td>\n      <td>S900</td>\n      <td>Q06</td>\n      <td>M</td>\n      <td>22-25</td>\n      <td>False</td>\n      <td>0</td>\n      <td>0</td>\n      <td>0</td>\n      <td>0.0</td>\n      <td>...</td>\n      <td>5.2</td>\n      <td>101.12</td>\n      <td>86.45</td>\n      <td>2.0</td>\n      <td>45.9</td>\n      <td>107.17</td>\n      <td>105.31</td>\n      <td>1.80</td>\n      <td>0.0</td>\n      <td>1.80</td>\n    </tr>\n    <tr>\n      <th>1</th>\n      <td>100206</td>\n      <td>S900</td>\n      <td>Q11</td>\n      <td>M</td>\n      <td>26-30</td>\n      <td>True</td>\n      <td>1</td>\n      <td>1</td>\n      <td>4</td>\n      <td>100.0</td>\n      <td>...</td>\n      <td>6.0</td>\n      <td>108.79</td>\n      <td>97.19</td>\n      <td>1.0</td>\n      <td>49.7</td>\n      <td>72.63</td>\n      <td>72.03</td>\n      <td>1.84</td>\n      <td>0.0</td>\n      <td>1.84</td>\n    </tr>\n    <tr>\n      <th>2</th>\n      <td>100307</td>\n      <td>Q1</td>\n      <td>Q01</td>\n      <td>F</td>\n      <td>26-30</td>\n      <td>True</td>\n      <td>1</td>\n      <td>1</td>\n      <td>4</td>\n      <td>100.0</td>\n      <td>...</td>\n      <td>3.6</td>\n      <td>101.12</td>\n      <td>86.45</td>\n      <td>0.0</td>\n      <td>38.6</td>\n      <td>71.69</td>\n      <td>71.76</td>\n      <td>1.76</td>\n      <td>0.0</td>\n      <td>1.76</td>\n    </tr>\n    <tr>\n      <th>3</th>\n      <td>100408</td>\n      <td>Q3</td>\n      <td>Q03</td>\n      <td>M</td>\n      <td>31-35</td>\n      <td>True</td>\n      <td>1</td>\n      <td>1</td>\n      <td>4</td>\n      <td>100.0</td>\n      <td>...</td>\n      <td>2.0</td>\n      <td>108.79</td>\n      <td>98.04</td>\n      <td>2.0</td>\n      <td>52.6</td>\n      <td>114.01</td>\n      <td>113.59</td>\n      <td>1.76</td>\n      <td>2.0</td>\n      <td>1.68</td>\n    </tr>\n    <tr>\n      <th>4</th>\n      <td>100610</td>\n      <td>S900</td>\n      <td>Q08</td>\n      <td>M</td>\n      <td>26-30</td>\n      <td>True</td>\n      <td>2</td>\n      <td>1</td>\n      <td>4</td>\n      <td>100.0</td>\n      <td>...</td>\n      <td>2.0</td>\n      <td>122.25</td>\n      <td>110.45</td>\n      <td>0.0</td>\n      <td>38.6</td>\n      <td>84.84</td>\n      <td>85.31</td>\n      <td>1.92</td>\n      <td>1.0</td>\n      <td>1.88</td>\n    </tr>\n    <tr>\n      <th>...</th>\n      <td>...</td>\n      <td>...</td>\n      <td>...</td>\n      <td>...</td>\n      <td>...</td>\n      <td>...</td>\n      <td>...</td>\n      <td>...</td>\n      <td>...</td>\n      <td>...</td>\n      <td>...</td>\n      <td>...</td>\n      <td>...</td>\n      <td>...</td>\n      <td>...</td>\n      <td>...</td>\n      <td>...</td>\n      <td>...</td>\n      <td>...</td>\n      <td>...</td>\n      <td>...</td>\n    </tr>\n    <tr>\n      <th>1201</th>\n      <td>992774</td>\n      <td>Q2</td>\n      <td>Q02</td>\n      <td>M</td>\n      <td>31-35</td>\n      <td>True</td>\n      <td>2</td>\n      <td>2</td>\n      <td>4</td>\n      <td>100.0</td>\n      <td>...</td>\n      <td>8.4</td>\n      <td>122.25</td>\n      <td>111.41</td>\n      <td>4.0</td>\n      <td>50.1</td>\n      <td>107.17</td>\n      <td>103.55</td>\n      <td>1.76</td>\n      <td>0.0</td>\n      <td>1.76</td>\n    </tr>\n    <tr>\n      <th>1202</th>\n      <td>993675</td>\n      <td>S900</td>\n      <td>Q09</td>\n      <td>F</td>\n      <td>26-30</td>\n      <td>True</td>\n      <td>2</td>\n      <td>2</td>\n      <td>4</td>\n      <td>100.0</td>\n      <td>...</td>\n      <td>0.4</td>\n      <td>122.25</td>\n      <td>110.45</td>\n      <td>0.0</td>\n      <td>38.6</td>\n      <td>84.07</td>\n      <td>84.25</td>\n      <td>1.80</td>\n      <td>1.0</td>\n      <td>1.76</td>\n    </tr>\n    <tr>\n      <th>1203</th>\n      <td>994273</td>\n      <td>S500</td>\n      <td>Q06</td>\n      <td>M</td>\n      <td>26-30</td>\n      <td>True</td>\n      <td>1</td>\n      <td>1</td>\n      <td>4</td>\n      <td>100.0</td>\n      <td>...</td>\n      <td>6.0</td>\n      <td>122.25</td>\n      <td>111.41</td>\n      <td>7.0</td>\n      <td>63.8</td>\n      <td>110.65</td>\n      <td>109.73</td>\n      <td>1.80</td>\n      <td>1.0</td>\n      <td>1.76</td>\n    </tr>\n    <tr>\n      <th>1204</th>\n      <td>995174</td>\n      <td>S1200</td>\n      <td>Q13</td>\n      <td>M</td>\n      <td>22-25</td>\n      <td>False</td>\n      <td>1</td>\n      <td>1</td>\n      <td>2</td>\n      <td>0.0</td>\n      <td>...</td>\n      <td>3.6</td>\n      <td>88.61</td>\n      <td>64.58</td>\n      <td>3.0</td>\n      <td>50.1</td>\n      <td>117.16</td>\n      <td>117.40</td>\n      <td>1.80</td>\n      <td>0.0</td>\n      <td>1.80</td>\n    </tr>\n    <tr>\n      <th>1205</th>\n      <td>996782</td>\n      <td>S900</td>\n      <td>Q08</td>\n      <td>F</td>\n      <td>26-30</td>\n      <td>True</td>\n      <td>2</td>\n      <td>2</td>\n      <td>4</td>\n      <td>100.0</td>\n      <td>...</td>\n      <td>6.0</td>\n      <td>108.79</td>\n      <td>97.19</td>\n      <td>0.0</td>\n      <td>38.6</td>\n      <td>75.43</td>\n      <td>73.72</td>\n      <td>1.84</td>\n      <td>0.0</td>\n      <td>1.84</td>\n    </tr>\n  </tbody>\n</table>\n<p>1206 rows × 582 columns</p>\n</div>"
     },
     "execution_count": 5,
     "metadata": {},
     "output_type": "execute_result"
    }
   ],
   "source": [
    "from utils.subjects import *\n",
    "df_subj = load_YAD_labels(file_path=yad_label_file)\n",
    "df_subj = load_HCP_labels(file_path=hcp_label_file)\n",
    "df_subj"
   ],
   "metadata": {
    "collapsed": false,
    "pycharm": {
     "name": "#%%\n"
    }
   }
  },
  {
   "cell_type": "code",
   "execution_count": null,
   "outputs": [],
   "source": [
    "flist = os.listdir(data_dir['HCP'])\n",
    "data = pd.read_csv(os.path.join(data_dir['HCP'], flist[0]), header=None)\n",
    "data"
   ],
   "metadata": {
    "collapsed": false,
    "pycharm": {
     "name": "#%%\n"
    }
   }
  }
 ],
 "metadata": {
  "kernelspec": {
   "display_name": "Python 3",
   "language": "python",
   "name": "python3"
  },
  "language_info": {
   "codemirror_mode": {
    "name": "ipython",
    "version": 2
   },
   "file_extension": ".py",
   "mimetype": "text/x-python",
   "name": "python",
   "nbconvert_exporter": "python",
   "pygments_lexer": "ipython2",
   "version": "2.7.6"
  }
 },
 "nbformat": 4,
 "nbformat_minor": 0
}