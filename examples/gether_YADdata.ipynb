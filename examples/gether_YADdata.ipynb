{
 "cells": [
  {
   "cell_type": "code",
   "execution_count": null,
   "metadata": {
    "collapsed": true
   },
   "outputs": [],
   "source": [
    "import os, sys\n",
    "\n",
    "atlas = 'schaefer400-yeo17'\n",
    "sites = ['Kaist', 'SNU', 'Samsung', 'Gachon', 'HCP']\n",
    "\n",
    "data_dir = {\n",
    "    'HCP': f'/u3/Data/YAD_HCP_GNN/timeseries/HCP/{atlas}',\n",
    "    'Kaist': f'/u3/Data/YAD_TS/Kaist/rest.FIX_clean_NoiseICs_Censoring_afni/timeseries/{atlas}/Atlas_ROIs.2/incCbll',\n",
    "    'SNU': f'/u3/Data/YAD_TS/SNU/rest.FIX_clean_NoiseICs_Censoring/timeseries/{atlas}/Atlas_ROIs.2/incCbll',\n",
    "    'Samsung': f'/u3/Data/YAD_TS/Samsung/rest.FIX_clean_NoiseICs_Censoring/timeseries/{atlas}/Atlas_ROIs.2/incCbll',\n",
    "    'Gachon': f'/u3/Data/YAD_TS/Gachon/rest.FIX_clean_NoiseICs_Censoring/timeseries/{atlas}/Atlas_ROIs.2/incCbll',\n",
    "}\n",
    "label_dir = 'data/labelled_modified.csv'\n",
    "roi_name_dir = 'data/schaefer400-yeo17.txt'"
   ]
  },
  {
   "cell_type": "code",
   "execution_count": null,
   "outputs": [],
   "source": [],
   "metadata": {
    "collapsed": false,
    "pycharm": {
     "name": "#%%\n"
    }
   }
  },
  {
   "cell_type": "code",
   "execution_count": null,
   "outputs": [],
   "source": [],
   "metadata": {
    "collapsed": false,
    "pycharm": {
     "name": "#%%\n"
    }
   }
  }
 ],
 "metadata": {
  "kernelspec": {
   "display_name": "Python 3",
   "language": "python",
   "name": "python3"
  },
  "language_info": {
   "codemirror_mode": {
    "name": "ipython",
    "version": 2
   },
   "file_extension": ".py",
   "mimetype": "text/x-python",
   "name": "python",
   "nbconvert_exporter": "python",
   "pygments_lexer": "ipython2",
   "version": "2.7.6"
  }
 },
 "nbformat": 4,
 "nbformat_minor": 0
}