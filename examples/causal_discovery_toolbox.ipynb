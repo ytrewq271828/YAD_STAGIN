{
 "cells": [
  {
   "cell_type": "code",
   "execution_count": 6,
   "metadata": {},
   "outputs": [],
   "source": [
    "import networkx as nx\n",
    "import cdt\n",
    "import seaborn as sns\n",
    "data, graph = cdt.data.load_dataset('sachs')\n",
    "print(data.head())"
   ]
  },
  {
   "cell_type": "code",
   "execution_count": 2,
   "metadata": {},
   "outputs": [
    {
     "name": "stdout",
     "output_type": "stream",
     "text": [
      "DiGraph with 11 nodes and 121 edges\n",
      "[[ 9.26744031e-04 -6.13751618e-04  1.66612981e-05 -1.10912131e-06\n",
      "  -3.04172363e-05 -9.71526466e-05  7.00340545e-05 -1.93863471e-06\n",
      "  -7.31774543e-06  2.29788237e-06  8.31264711e-06]\n",
      " [-6.13751618e-04  4.14978956e-04 -1.37962487e-05  1.42164753e-06\n",
      "   2.04443539e-05  8.24208108e-05 -5.63238668e-05  1.62688021e-06\n",
      "   8.63444133e-06 -2.88779755e-06 -4.69605195e-06]\n",
      " [ 1.66612981e-05 -1.37962487e-05  2.60824802e-04 -1.35895911e-04\n",
      "   8.78979413e-05  2.17234579e-05 -2.07856535e-05  1.23313600e-06\n",
      "   2.12954874e-05 -3.22869246e-06 -7.47522248e-06]\n",
      " [-1.10912131e-06  1.42164753e-06 -1.35895911e-04  8.68622146e-05\n",
      "  -7.05405720e-05  3.08709259e-06 -2.60810094e-06  9.09261370e-09\n",
      "  -6.25320515e-06  2.56399675e-07  2.85201875e-07]\n",
      " [-3.04172363e-05  2.04443539e-05  8.78979413e-05 -7.05405720e-05\n",
      "   6.09681818e-04 -9.91703900e-06  1.78188074e-05 -5.97491176e-07\n",
      "   6.11896719e-06 -4.30918870e-07  5.79322379e-06]\n",
      " [-9.71526466e-05  8.24208108e-05  2.17234579e-05  3.08709259e-06\n",
      "  -9.91703900e-06  1.10860610e-03 -3.08483289e-04 -1.30867663e-05\n",
      "  -3.31258890e-05  7.76132824e-06  2.10416319e-05]\n",
      " [ 7.00340545e-05 -5.63238668e-05 -2.07856535e-05 -2.60810094e-06\n",
      "   1.78188074e-05 -3.08483289e-04  1.66144775e-04  1.26667898e-06\n",
      "   3.11407736e-05 -7.29116898e-06 -1.86454298e-05]\n",
      " [-1.93863471e-06  1.62688021e-06  1.23313600e-06  9.09261370e-09\n",
      "  -5.97491176e-07 -1.30867663e-05  1.26667898e-06  2.80073467e-06\n",
      "  -3.78879972e-06  8.67580852e-07  6.92379671e-07]\n",
      " [-7.31774543e-06  8.63444133e-06  2.12954874e-05 -6.25320515e-06\n",
      "   6.11896719e-06 -3.31258890e-05  3.11407736e-05 -3.78879972e-06\n",
      "   1.59642510e-03 -2.58155157e-04 -1.01767664e-04]\n",
      " [ 2.29788237e-06 -2.88779755e-06 -3.22869246e-06  2.56399675e-07\n",
      "  -4.30918870e-07  7.76132824e-06 -7.29116898e-06  8.67580852e-07\n",
      "  -2.58155157e-04  5.32997159e-05 -3.35285721e-06]\n",
      " [ 8.31264711e-06 -4.69605195e-06 -7.47522248e-06  2.85201875e-07\n",
      "   5.79322379e-06  2.10416319e-05 -1.86454298e-05  6.92379671e-07\n",
      "  -1.01767664e-04 -3.35285721e-06  7.05796078e-05]]\n"
     ]
    }
   ],
   "source": [
    "glasso = cdt.independence.graph.Glasso()\n",
    "skeleton = glasso.predict(data)\n",
    "print(skeleton)\n",
    "print(nx.adjacency_matrix(skeleton).todense())"
   ]
  },
  {
   "cell_type": "code",
   "execution_count": 3,
   "metadata": {},
   "outputs": [
    {
     "name": "stdout",
     "output_type": "stream",
     "text": [
      "[[9.26744031e-04 0.00000000e+00 1.66612981e-05 0.00000000e+00\n",
      "  0.00000000e+00 0.00000000e+00 7.00340545e-05 0.00000000e+00\n",
      "  0.00000000e+00 2.29788237e-06 8.31264711e-06]\n",
      " [0.00000000e+00 4.14978956e-04 0.00000000e+00 0.00000000e+00\n",
      "  2.04443539e-05 8.24208108e-05 0.00000000e+00 1.62688021e-06\n",
      "  8.63444133e-06 0.00000000e+00 0.00000000e+00]\n",
      " [1.66612981e-05 0.00000000e+00 2.60824802e-04 0.00000000e+00\n",
      "  8.78979413e-05 2.17234579e-05 0.00000000e+00 1.23313600e-06\n",
      "  2.12954874e-05 0.00000000e+00 0.00000000e+00]\n",
      " [0.00000000e+00 0.00000000e+00 0.00000000e+00 8.68622146e-05\n",
      "  0.00000000e+00 3.08709259e-06 0.00000000e+00 9.09261370e-09\n",
      "  0.00000000e+00 0.00000000e+00 0.00000000e+00]\n",
      " [0.00000000e+00 2.04443539e-05 8.78979413e-05 0.00000000e+00\n",
      "  6.09681818e-04 0.00000000e+00 1.78188074e-05 0.00000000e+00\n",
      "  0.00000000e+00 0.00000000e+00 5.79322379e-06]\n",
      " [0.00000000e+00 8.24208108e-05 2.17234579e-05 3.08709259e-06\n",
      "  0.00000000e+00 1.10860610e-03 0.00000000e+00 0.00000000e+00\n",
      "  0.00000000e+00 7.76132824e-06 2.10416319e-05]\n",
      " [7.00340545e-05 0.00000000e+00 0.00000000e+00 0.00000000e+00\n",
      "  1.78188074e-05 0.00000000e+00 1.66144775e-04 1.26667898e-06\n",
      "  3.11407736e-05 0.00000000e+00 0.00000000e+00]\n",
      " [0.00000000e+00 1.62688021e-06 1.23313600e-06 9.09261370e-09\n",
      "  0.00000000e+00 0.00000000e+00 1.26667898e-06 2.80073467e-06\n",
      "  0.00000000e+00 8.67580852e-07 6.92379671e-07]\n",
      " [0.00000000e+00 8.63444133e-06 2.12954874e-05 0.00000000e+00\n",
      "  0.00000000e+00 0.00000000e+00 3.11407736e-05 0.00000000e+00\n",
      "  1.59642510e-03 0.00000000e+00 0.00000000e+00]\n",
      " [2.29788237e-06 0.00000000e+00 0.00000000e+00 0.00000000e+00\n",
      "  0.00000000e+00 7.76132824e-06 0.00000000e+00 8.67580852e-07\n",
      "  0.00000000e+00 5.32997159e-05 0.00000000e+00]\n",
      " [8.31264711e-06 0.00000000e+00 0.00000000e+00 0.00000000e+00\n",
      "  5.79322379e-06 2.10416319e-05 0.00000000e+00 6.92379671e-07\n",
      "  0.00000000e+00 0.00000000e+00 7.05796078e-05]]\n"
     ]
    }
   ],
   "source": [
    "new_skeleton = cdt.utils.graph.remove_indirect_links(skeleton, alg='aracne')\n",
    "print(nx.adjacency_matrix(new_skeleton).todense())"
   ]
  },
  {
   "cell_type": "code",
   "execution_count": 4,
   "metadata": {},
   "outputs": [
    {
     "name": "stderr",
     "output_type": "stream",
     "text": [
      "GES is ran on the skeleton of the given graph.\n"
     ]
    },
    {
     "name": "stdout",
     "output_type": "stream",
     "text": [
      "[[0 0 0 0 0 0 1 0 0 1 1]\n",
      " [0 0 0 0 0 0 0 0 0 0 0]\n",
      " [1 0 0 0 0 0 0 0 1 0 0]\n",
      " [0 0 0 0 0 0 0 0 0 0 0]\n",
      " [0 0 1 0 0 0 1 0 0 0 0]\n",
      " [0 1 1 1 0 0 0 0 0 1 1]\n",
      " [0 0 0 0 0 0 0 0 0 0 0]\n",
      " [0 1 1 1 0 0 1 0 0 1 1]\n",
      " [0 1 0 0 0 0 1 0 0 0 0]\n",
      " [0 0 0 0 0 0 0 0 0 0 0]\n",
      " [0 0 0 0 0 0 0 0 0 0 0]]\n"
     ]
    }
   ],
   "source": [
    "model = cdt.causality.graph.GES()\n",
    "output_graph = model.predict(data, new_skeleton)\n",
    "print(nx.adjacency_matrix(output_graph).todense())"
   ]
  },
  {
   "cell_type": "code",
   "execution_count": 5,
   "metadata": {},
   "outputs": [
    {
     "name": "stdout",
     "output_type": "stream",
     "text": [
      "[(0.46354453627180897, [(0.1487603305785124, 1.0), (0.4, 0.4444444444444444), (1.0, 0.0)]), array(64.), 22]\n"
     ]
    },
    {
     "ename": "ImportError",
     "evalue": "R Package CAM is not available.",
     "output_type": "error",
     "traceback": [
      "\u001b[0;31m---------------------------------------------------------------------------\u001b[0m",
      "\u001b[0;31mImportError\u001b[0m                               Traceback (most recent call last)",
      "\u001b[0;32m/tmp/ipykernel_22621/1045754024.py\u001b[0m in \u001b[0;36m<module>\u001b[0;34m\u001b[0m\n\u001b[1;32m      5\u001b[0m \u001b[0;34m\u001b[0m\u001b[0m\n\u001b[1;32m      6\u001b[0m \u001b[0;31m# now we compute the CAM graph without constraints and the associated scores\u001b[0m\u001b[0;34m\u001b[0m\u001b[0;34m\u001b[0m\u001b[0;34m\u001b[0m\u001b[0m\n\u001b[0;32m----> 7\u001b[0;31m \u001b[0mmodel2\u001b[0m \u001b[0;34m=\u001b[0m \u001b[0mcdt\u001b[0m\u001b[0;34m.\u001b[0m\u001b[0mcausality\u001b[0m\u001b[0;34m.\u001b[0m\u001b[0mgraph\u001b[0m\u001b[0;34m.\u001b[0m\u001b[0mCAM\u001b[0m\u001b[0;34m(\u001b[0m\u001b[0;34m)\u001b[0m\u001b[0;34m\u001b[0m\u001b[0;34m\u001b[0m\u001b[0m\n\u001b[0m\u001b[1;32m      8\u001b[0m \u001b[0moutput_graph_nc\u001b[0m \u001b[0;34m=\u001b[0m \u001b[0mmodel2\u001b[0m\u001b[0;34m.\u001b[0m\u001b[0mpredict\u001b[0m\u001b[0;34m(\u001b[0m\u001b[0mdata\u001b[0m\u001b[0;34m)\u001b[0m\u001b[0;34m\u001b[0m\u001b[0;34m\u001b[0m\u001b[0m\n\u001b[1;32m      9\u001b[0m \u001b[0mscores_nc\u001b[0m \u001b[0;34m=\u001b[0m \u001b[0;34m[\u001b[0m\u001b[0mmetric\u001b[0m\u001b[0;34m(\u001b[0m\u001b[0mgraph\u001b[0m\u001b[0;34m,\u001b[0m \u001b[0moutput_graph_nc\u001b[0m\u001b[0;34m)\u001b[0m \u001b[0;32mfor\u001b[0m \u001b[0mmetric\u001b[0m \u001b[0;32min\u001b[0m \u001b[0;34m(\u001b[0m\u001b[0mprecision_recall\u001b[0m\u001b[0;34m,\u001b[0m \u001b[0mSID\u001b[0m\u001b[0;34m,\u001b[0m \u001b[0mSHD\u001b[0m\u001b[0;34m)\u001b[0m\u001b[0;34m]\u001b[0m\u001b[0;34m\u001b[0m\u001b[0;34m\u001b[0m\u001b[0m\n",
      "\u001b[0;32m~/anaconda3/envs/YAD_STAGIN/lib/python3.8/site-packages/cdt/causality/graph/CAM.py\u001b[0m in \u001b[0;36m__init__\u001b[0;34m(self, score, cutoff, variablesel, selmethod, pruning, prunmethod, njobs, verbose)\u001b[0m\n\u001b[1;32m    122\u001b[0m         \u001b[0;34m\"\"\"Init the model and its available arguments.\"\"\"\u001b[0m\u001b[0;34m\u001b[0m\u001b[0;34m\u001b[0m\u001b[0m\n\u001b[1;32m    123\u001b[0m         \u001b[0;32mif\u001b[0m \u001b[0;32mnot\u001b[0m \u001b[0mRPackages\u001b[0m\u001b[0;34m.\u001b[0m\u001b[0mCAM\u001b[0m\u001b[0;34m:\u001b[0m\u001b[0;34m\u001b[0m\u001b[0;34m\u001b[0m\u001b[0m\n\u001b[0;32m--> 124\u001b[0;31m             \u001b[0;32mraise\u001b[0m \u001b[0mImportError\u001b[0m\u001b[0;34m(\u001b[0m\u001b[0;34m\"R Package CAM is not available.\"\u001b[0m\u001b[0;34m)\u001b[0m\u001b[0;34m\u001b[0m\u001b[0;34m\u001b[0m\u001b[0m\n\u001b[0m\u001b[1;32m    125\u001b[0m \u001b[0;34m\u001b[0m\u001b[0m\n\u001b[1;32m    126\u001b[0m         \u001b[0msuper\u001b[0m\u001b[0;34m(\u001b[0m\u001b[0mCAM\u001b[0m\u001b[0;34m,\u001b[0m \u001b[0mself\u001b[0m\u001b[0;34m)\u001b[0m\u001b[0;34m.\u001b[0m\u001b[0m__init__\u001b[0m\u001b[0;34m(\u001b[0m\u001b[0;34m)\u001b[0m\u001b[0;34m\u001b[0m\u001b[0;34m\u001b[0m\u001b[0m\n",
      "\u001b[0;31mImportError\u001b[0m: R Package CAM is not available."
     ]
    }
   ],
   "source": [
    "from cdt.metrics import (precision_recall, SID, SHD)\n",
    "scores = [metric(graph, output_graph) for metric in (precision_recall, SID, SHD)]\n",
    "print(scores)\n",
    "\n",
    "\n",
    "# now we compute the CAM graph without constraints and the associated scores\n",
    "model2 = cdt.causality.graph.CAM()\n",
    "output_graph_nc = model2.predict(data)\n",
    "scores_nc = [metric(graph, output_graph_nc) for metric in (precision_recall, SID, SHD)]\n",
    "print(scores_nc)"
   ]
  },
  {
   "cell_type": "code",
   "execution_count": null,
   "metadata": {},
   "outputs": [],
   "source": []
  },
  {
   "cell_type": "code",
   "execution_count": null,
   "metadata": {},
   "outputs": [],
   "source": []
  }
 ],
 "metadata": {
  "interpreter": {
   "hash": "707a7df05f9e3840f994f29f2fb03442a9a5163384a66996d6d58cf998bd44cb"
  },
  "kernelspec": {
   "display_name": "Python 3.8.12 ('YAD_STAGIN')",
   "language": "python",
   "name": "python3"
  },
  "language_info": {
   "codemirror_mode": {
    "name": "ipython",
    "version": 3
   },
   "file_extension": ".py",
   "mimetype": "text/x-python",
   "name": "python",
   "nbconvert_exporter": "python",
   "pygments_lexer": "ipython3",
   "version": "3.8.12"
  },
  "orig_nbformat": 4
 },
 "nbformat": 4,
 "nbformat_minor": 2
}
